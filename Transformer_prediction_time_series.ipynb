{
  "nbformat": 4,
  "nbformat_minor": 0,
  "metadata": {
    "colab": {
      "name": "Transformer-prediction-time-series.ipynb",
      "provenance": [],
      "authorship_tag": "ABX9TyMnaY2YUo98iCwEzWFhUP66",
      "include_colab_link": true
    },
    "kernelspec": {
      "name": "python3",
      "display_name": "Python 3"
    }
  },
  "cells": [
    {
      "cell_type": "markdown",
      "metadata": {
        "id": "view-in-github",
        "colab_type": "text"
      },
      "source": [
        "<a href=\"https://colab.research.google.com/github/onism/MyLearning/blob/master/Transformer_prediction_time_series.ipynb\" target=\"_parent\"><img src=\"https://colab.research.google.com/assets/colab-badge.svg\" alt=\"Open In Colab\"/></a>"
      ]
    },
    {
      "cell_type": "code",
      "metadata": {
        "id": "RforM5f1JNLv",
        "colab_type": "code",
        "colab": {}
      },
      "source": [
        "import torch \n",
        "import torch.nn as nn \n",
        "import numpy as np \n",
        "from matplotlib import pyplot as plt\n",
        "import math\n",
        "%matplotlib inline"
      ],
      "execution_count": 14,
      "outputs": []
    },
    {
      "cell_type": "code",
      "metadata": {
        "id": "h8U-GeSoJrXy",
        "colab_type": "code",
        "colab": {}
      },
      "source": [
        "input_window = 100 # number of input steps\n",
        "output_window = 1 # number of prediction steps, in this model its fixed to one\n",
        "batch_size = 10 \n",
        "device = torch.device(\"cuda\" if torch.cuda.is_available() else \"cpu\")\n"
      ],
      "execution_count": 3,
      "outputs": []
    },
    {
      "cell_type": "code",
      "metadata": {
        "id": "k25fcu4lJzDg",
        "colab_type": "code",
        "colab": {}
      },
      "source": [
        "class PositionalEncoding(nn.Module):\n",
        "    def __init__(self, d_model, max_len=5000):\n",
        "        super().__init__()\n",
        "        pe = torch.zeros(max_len, d_model)\n",
        "        position = torch.arange(0, max_len, dtype=torch.float).unsqueeze(1)\n",
        "        div_term = torch.exp(torch.arange(0, d_model, 2).float() * (-math.log(10000.0) / d_model))\n",
        "        pe[:, 0::2] = torch.sin(position * div_term)\n",
        "        pe[:, 1::2] = torch.cos(position * div_term)\n",
        "        pe = pe.unsqueeze(0).transpose(0, 1)\n",
        "        #pe.requires_grad = False\n",
        "        self.register_buffer('pe', pe)\n",
        "\n",
        "    def forward(self, x):\n",
        "        return x + self.pe[:x.size(0), :]"
      ],
      "execution_count": 4,
      "outputs": []
    },
    {
      "cell_type": "code",
      "metadata": {
        "id": "LTZs6rc4KGAe",
        "colab_type": "code",
        "colab": {}
      },
      "source": [
        "class TransformerPred(nn.Module):\n",
        "    def __init__(self, feature_size=250, num_layers=1, dropout=0.1):\n",
        "        super().__init__()\n",
        "        self.pos_encoder = PositionalEncoding(feature_size)\n",
        "        self.encoder_layer = nn.TransformerEncoderLayer(d_model=feature_size, nhead=10, dropout=dropout)\n",
        "        self.transformer_encoder = nn.TransformerEncoder(self.encoder_layer, num_layers=num_layers)\n",
        "        self.decoder = nn.Linear(feature_size,1)\n",
        "    \n",
        "    def forward(self, src, mask):\n",
        "        src = self.pos_encoder(src)\n",
        "        output = self.transformer_encoder(src, mask)\n",
        "        output = self.decoder(output)\n",
        "        return output \n",
        "\n"
      ],
      "execution_count": 12,
      "outputs": []
    },
    {
      "cell_type": "code",
      "metadata": {
        "id": "Kl4Capx4LUYl",
        "colab_type": "code",
        "colab": {}
      },
      "source": [
        "def generate_square_subsequent_mask(sz):\n",
        "    mask = (torch.triu(torch.ones(sz, sz)) == 1).transpose(0, 1)\n",
        "    mask = mask.float().masked_fill(mask == 0, float('-inf')).masked_fill(mask == 1, float(0.0))\n",
        "    return mask"
      ],
      "execution_count": 6,
      "outputs": []
    },
    {
      "cell_type": "code",
      "metadata": {
        "id": "WDjZRA7YLYpS",
        "colab_type": "code",
        "colab": {}
      },
      "source": [
        "from sklearn.preprocessing import MinMaxScaler\n",
        "\n",
        "def create_inout_sequences(input_data, tw):\n",
        "    inout_seq = []\n",
        "    L = len(input_data)\n",
        "    for i in range(L-tw):\n",
        "        train_seq = input_data[i:i+tw]\n",
        "        train_label = input_data[i+output_window:i+tw+output_window]\n",
        "        inout_seq.append((train_seq ,train_label))\n",
        "    return torch.FloatTensor(inout_seq)\n",
        "\n",
        "def get_data():\n",
        "    # construct a littel toy dataset\n",
        "    time        = np.arange(0, 400, 0.1)    \n",
        "    amplitude   = np.sin(time) + np.sin(time*0.05) +np.sin(time*0.12) *np.random.normal(-0.2, 0.2, len(time))\n",
        "    scaler = MinMaxScaler(feature_range=(-1, 1)) \n",
        "    amplitude = scaler.fit_transform(amplitude.reshape(-1, 1)).reshape(-1)\n",
        "    sampels = 2600\n",
        "    train_data = amplitude[:sampels]\n",
        "    test_data = amplitude[sampels:]\n",
        "    train_sequence = create_inout_sequences(train_data,input_window)\n",
        "    train_sequence = train_sequence[:-output_window]\n",
        "    test_data = create_inout_sequences(test_data,input_window)\n",
        "    test_data = train_sequence[:-output_window]\n",
        "    return train_sequence.to(device),test_data.to(device)\n",
        "\n",
        "def get_batch(source, i,batch_size):\n",
        "    seq_len = min(batch_size, len(source) - 1 - i)\n",
        "    data = source[i:i+seq_len]    \n",
        "    input = torch.stack(torch.stack([item[0] for item in data]).chunk(input_window,1)) # 1 is feature size\n",
        "    target = torch.stack(torch.stack([item[1] for item in data]).chunk(input_window,1))\n",
        "    return input, target\n",
        "\n",
        "\n",
        "    \n",
        "    "
      ],
      "execution_count": 10,
      "outputs": []
    },
    {
      "cell_type": "code",
      "metadata": {
        "id": "Rn-o0ZzrMNH1",
        "colab_type": "code",
        "colab": {}
      },
      "source": [
        "train_data, val_data = get_data()\n",
        "model = TransformerPred().to(device)\n",
        "\n",
        "criterion = nn.MSELoss()\n",
        "lr = 0.005 \n",
        "#optimizer = torch.optim.SGD(model.parameters(), lr=lr)\n",
        "optimizer = torch.optim.AdamW(model.parameters(), lr=lr)\n",
        "scheduler = torch.optim.lr_scheduler.StepLR(optimizer, 1.0, gamma=0.95)\n",
        "\n",
        "best_val_loss = float(\"inf\")\n",
        "epochs = 10 # The number of epochs\n",
        "best_model = None"
      ],
      "execution_count": 15,
      "outputs": []
    },
    {
      "cell_type": "code",
      "metadata": {
        "id": "Hfs0cPUUMhVG",
        "colab_type": "code",
        "colab": {}
      },
      "source": [
        "def train(train_data):\n",
        "    model.train()\n",
        "    total_loss = 0.\n",
        "    for batch, i in enumerate( range(0, len(train_data)-1, batch_size) ):\n",
        "        data, targets = get_batch(train_data, i, batch_size)\n",
        "        optimizer.zero_grad()\n",
        "        mask = generate_square_subsequent_mask(len(data)).to(device)\n",
        "        output = model(data, mask)\n",
        "        loss = criterion(output, targets)\n",
        "        loss.backward()\n",
        "        optimizer.step()\n",
        "        total_loss += loss.item()\n",
        "        log_interval = int(len(train_data) / batch_size / 5)\n",
        "        if batch % log_interval == 0 and batch > 0:\n",
        "            cur_loss = total_loss / log_interval\n",
        "            \n",
        "            print('| epoch {:3d} | {:5d}/{:5d} batches | '\n",
        "                  'lr {:02.6f} |  '\n",
        "                  'loss {:5.5f} | ppl {:8.2f}'.format(\n",
        "                    epoch, batch, len(train_data) // batch_size, scheduler.get_lr()[0],\n",
        "                    cur_loss, math.exp(cur_loss)))\n",
        "            total_loss = 0"
      ],
      "execution_count": 27,
      "outputs": []
    },
    {
      "cell_type": "code",
      "metadata": {
        "id": "PNBURhRrNH9A",
        "colab_type": "code",
        "colab": {
          "base_uri": "https://localhost:8080/",
          "height": 921
        },
        "outputId": "1c780926-8c60-440a-c83f-756772dabc39"
      },
      "source": [
        "for epoch in range(1, epochs + 1):\n",
        "    train(train_data)"
      ],
      "execution_count": 28,
      "outputs": [
        {
          "output_type": "stream",
          "text": [
            "/usr/local/lib/python3.6/dist-packages/torch/optim/lr_scheduler.py:351: UserWarning: To get the last learning rate computed by the scheduler, please use `get_last_lr()`.\n",
            "  \"please use `get_last_lr()`.\", UserWarning)\n"
          ],
          "name": "stderr"
        },
        {
          "output_type": "stream",
          "text": [
            "| epoch   1 |    49/  249 batches | lr 0.005000 |  loss 0.09005 | ppl     1.09\n",
            "| epoch   1 |    98/  249 batches | lr 0.005000 |  loss 0.04388 | ppl     1.04\n",
            "| epoch   1 |   147/  249 batches | lr 0.005000 |  loss 0.04127 | ppl     1.04\n",
            "| epoch   1 |   196/  249 batches | lr 0.005000 |  loss 0.03359 | ppl     1.03\n",
            "| epoch   1 |   245/  249 batches | lr 0.005000 |  loss 0.02415 | ppl     1.02\n",
            "| epoch   2 |    49/  249 batches | lr 0.005000 |  loss 0.02972 | ppl     1.03\n",
            "| epoch   2 |    98/  249 batches | lr 0.005000 |  loss 0.01895 | ppl     1.02\n",
            "| epoch   2 |   147/  249 batches | lr 0.005000 |  loss 0.02399 | ppl     1.02\n",
            "| epoch   2 |   196/  249 batches | lr 0.005000 |  loss 0.02324 | ppl     1.02\n",
            "| epoch   2 |   245/  249 batches | lr 0.005000 |  loss 0.01507 | ppl     1.02\n",
            "| epoch   3 |    49/  249 batches | lr 0.005000 |  loss 0.01836 | ppl     1.02\n",
            "| epoch   3 |    98/  249 batches | lr 0.005000 |  loss 0.01290 | ppl     1.01\n",
            "| epoch   3 |   147/  249 batches | lr 0.005000 |  loss 0.01296 | ppl     1.01\n",
            "| epoch   3 |   196/  249 batches | lr 0.005000 |  loss 0.01704 | ppl     1.02\n",
            "| epoch   3 |   245/  249 batches | lr 0.005000 |  loss 0.01016 | ppl     1.01\n",
            "| epoch   4 |    49/  249 batches | lr 0.005000 |  loss 0.01334 | ppl     1.01\n",
            "| epoch   4 |    98/  249 batches | lr 0.005000 |  loss 0.01018 | ppl     1.01\n",
            "| epoch   4 |   147/  249 batches | lr 0.005000 |  loss 0.01043 | ppl     1.01\n",
            "| epoch   4 |   196/  249 batches | lr 0.005000 |  loss 0.02695 | ppl     1.03\n",
            "| epoch   4 |   245/  249 batches | lr 0.005000 |  loss 0.01195 | ppl     1.01\n",
            "| epoch   5 |    49/  249 batches | lr 0.005000 |  loss 0.01334 | ppl     1.01\n",
            "| epoch   5 |    98/  249 batches | lr 0.005000 |  loss 0.00972 | ppl     1.01\n",
            "| epoch   5 |   147/  249 batches | lr 0.005000 |  loss 0.00970 | ppl     1.01\n",
            "| epoch   5 |   196/  249 batches | lr 0.005000 |  loss 0.02795 | ppl     1.03\n",
            "| epoch   5 |   245/  249 batches | lr 0.005000 |  loss 0.01141 | ppl     1.01\n",
            "| epoch   6 |    49/  249 batches | lr 0.005000 |  loss 0.01096 | ppl     1.01\n",
            "| epoch   6 |    98/  249 batches | lr 0.005000 |  loss 0.00799 | ppl     1.01\n",
            "| epoch   6 |   147/  249 batches | lr 0.005000 |  loss 0.00901 | ppl     1.01\n",
            "| epoch   6 |   196/  249 batches | lr 0.005000 |  loss 0.02541 | ppl     1.03\n",
            "| epoch   6 |   245/  249 batches | lr 0.005000 |  loss 0.01205 | ppl     1.01\n",
            "| epoch   7 |    49/  249 batches | lr 0.005000 |  loss 0.01053 | ppl     1.01\n",
            "| epoch   7 |    98/  249 batches | lr 0.005000 |  loss 0.01069 | ppl     1.01\n",
            "| epoch   7 |   147/  249 batches | lr 0.005000 |  loss 0.00887 | ppl     1.01\n",
            "| epoch   7 |   196/  249 batches | lr 0.005000 |  loss 0.01511 | ppl     1.02\n",
            "| epoch   7 |   245/  249 batches | lr 0.005000 |  loss 0.00894 | ppl     1.01\n",
            "| epoch   8 |    49/  249 batches | lr 0.005000 |  loss 0.00943 | ppl     1.01\n",
            "| epoch   8 |    98/  249 batches | lr 0.005000 |  loss 0.01272 | ppl     1.01\n",
            "| epoch   8 |   147/  249 batches | lr 0.005000 |  loss 0.00877 | ppl     1.01\n",
            "| epoch   8 |   196/  249 batches | lr 0.005000 |  loss 0.02939 | ppl     1.03\n",
            "| epoch   8 |   245/  249 batches | lr 0.005000 |  loss 0.01242 | ppl     1.01\n",
            "| epoch   9 |    49/  249 batches | lr 0.005000 |  loss 0.01173 | ppl     1.01\n",
            "| epoch   9 |    98/  249 batches | lr 0.005000 |  loss 0.02016 | ppl     1.02\n",
            "| epoch   9 |   147/  249 batches | lr 0.005000 |  loss 0.01151 | ppl     1.01\n",
            "| epoch   9 |   196/  249 batches | lr 0.005000 |  loss 0.02170 | ppl     1.02\n",
            "| epoch   9 |   245/  249 batches | lr 0.005000 |  loss 0.00924 | ppl     1.01\n",
            "| epoch  10 |    49/  249 batches | lr 0.005000 |  loss 0.00888 | ppl     1.01\n",
            "| epoch  10 |    98/  249 batches | lr 0.005000 |  loss 0.00754 | ppl     1.01\n",
            "| epoch  10 |   147/  249 batches | lr 0.005000 |  loss 0.00790 | ppl     1.01\n",
            "| epoch  10 |   196/  249 batches | lr 0.005000 |  loss 0.01741 | ppl     1.02\n",
            "| epoch  10 |   245/  249 batches | lr 0.005000 |  loss 0.00853 | ppl     1.01\n"
          ],
          "name": "stdout"
        }
      ]
    },
    {
      "cell_type": "code",
      "metadata": {
        "id": "LmiCJnRaNlP6",
        "colab_type": "code",
        "colab": {
          "base_uri": "https://localhost:8080/",
          "height": 282
        },
        "outputId": "6bf61faf-92d5-46e9-fe5e-e9a9ae230e10"
      },
      "source": [
        "model.eval() \n",
        "total_loss = 0.\n",
        "test_result = torch.Tensor(0)    \n",
        "truth = torch.Tensor(0)\n",
        "data, _ = get_batch(val_data, 0,1)\n",
        "src_data = data\n",
        "with torch.no_grad():\n",
        "    for i in range(0, 100):       \n",
        "        mask = generate_square_subsequent_mask( len(data[-input_window:])  ).to(device)   \n",
        "        output = model(data[-input_window:], mask)                        \n",
        "        data = torch.cat((data, output[-1:]))\n",
        "        \n",
        "data = data.cpu().view(-1)\n",
        "\n",
        "# I used this plot to visualize if the model pics up any long therm struccture within the data. \n",
        "plt.plot(data,color=\"red\")       \n",
        "plt.plot(data[:input_window],color=\"blue\")    \n",
        "plt.grid(True, which='both')\n",
        "plt.axhline(y=0, color='k')"
      ],
      "execution_count": 36,
      "outputs": [
        {
          "output_type": "execute_result",
          "data": {
            "text/plain": [
              "<matplotlib.lines.Line2D at 0x7f0f135ecf98>"
            ]
          },
          "metadata": {
            "tags": []
          },
          "execution_count": 36
        },
        {
          "output_type": "display_data",
          "data": {
            "image/png": "[encoded data removed]",
            "text/plain": [
              "<Figure size 432x288 with 1 Axes>"
            ]
          },
          "metadata": {
            "tags": [],
            "needs_background": "light"
          }
        }
      ]
    },
    {
      "cell_type": "code",
      "metadata": {
        "id": "K54Jz57WLfvd",
        "colab_type": "code",
        "colab": {
          "base_uri": "https://localhost:8080/",
          "height": 34
        },
        "outputId": "d8f9b507-72bc-4506-cd2c-1b089b49c5e1"
      },
      "source": [
        ""
      ],
      "execution_count": 23,
      "outputs": [
        {
          "output_type": "execute_result",
          "data": {
            "text/plain": [
              "torch.Size([100, 10, 1])"
            ]
          },
          "metadata": {
            "tags": []
          },
          "execution_count": 23
        }
      ]
    }
  ]
}