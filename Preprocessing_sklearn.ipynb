{
  "nbformat": 4,
  "nbformat_minor": 0,
  "metadata": {
    "colab": {
      "name": "Preprocessing_sklearn.ipynb",
      "provenance": [],
      "authorship_tag": "ABX9TyObLCnzSAq/LNZJGRFx7Gf2",
      "include_colab_link": true
    },
    "kernelspec": {
      "name": "python3",
      "display_name": "Python 3"
    }
  },
  "cells": [
    {
      "cell_type": "markdown",
      "metadata": {
        "id": "view-in-github",
        "colab_type": "text"
      },
      "source": [
        "<a href=\"https://colab.research.google.com/github/onism/MyLearning/blob/master/Preprocessing_sklearn.ipynb\" target=\"_parent\"><img src=\"https://colab.research.google.com/assets/colab-badge.svg\" alt=\"Open In Colab\"/></a>"
      ]
    },
    {
      "cell_type": "markdown",
      "metadata": {
        "id": "PNMlo3FBl2PB",
        "colab_type": "text"
      },
      "source": [
        "#Mean Removal\n",
        "\n",
        "“This helps us in removing any bias from the features. ”\n",
        "\n",
        "摘录来自: Prateek Joshi. “Python: Real World Machine Learning。” Apple Books. "
      ]
    },
    {
      "cell_type": "code",
      "metadata": {
        "id": "hDgl8nPZl8OC",
        "colab_type": "code",
        "colab": {
          "base_uri": "https://localhost:8080/",
          "height": 51
        },
        "outputId": "2f6bf5a9-6541-4d9b-bb71-b3921b9253ea"
      },
      "source": [
        "import numpy as np \n",
        "from sklearn import preprocessing  \n",
        "\n",
        "data = np.array([\n",
        "                 [3,1.5,2,-5.4],\n",
        "                 [0,4,-0.3,2.1],\n",
        "                 [1,3.3,-1.9, -4.3]\n",
        "])\n",
        "\n",
        "data_standardized = preprocessing.scale(data)\n",
        "print('Mean', data_standardized.mean(axis=0))\n",
        "print('Std', data_standardized.std(axis=0))"
      ],
      "execution_count": 1,
      "outputs": [
        {
          "output_type": "stream",
          "text": [
            "Mean [ 5.55111512e-17 -2.77555756e-16 -7.40148683e-17 -7.40148683e-17]\n",
            "Std [1. 1. 1. 1.]\n"
          ],
          "name": "stdout"
        }
      ]
    },
    {
      "cell_type": "markdown",
      "metadata": {
        "id": "GWVP48xemrK8",
        "colab_type": "text"
      },
      "source": [
        "# Scaling\n",
        "\n"
      ]
    },
    {
      "cell_type": "code",
      "metadata": {
        "id": "k-SMY6Zmmi-i",
        "colab_type": "code",
        "colab": {
          "base_uri": "https://localhost:8080/",
          "height": 68
        },
        "outputId": "28c15f9e-2cf3-40db-b8e2-7df2f1d42104"
      },
      "source": [
        "data_scaler = preprocessing.MinMaxScaler(feature_range=(0,1))\n",
        "data_scaled = data_scaler.fit_transform(data)\n",
        "print(data_scaled)"
      ],
      "execution_count": 2,
      "outputs": [
        {
          "output_type": "stream",
          "text": [
            "[[1.         0.         1.         0.        ]\n",
            " [0.         1.         0.41025641 1.        ]\n",
            " [0.33333333 0.72       0.         0.14666667]]\n"
          ],
          "name": "stdout"
        }
      ]
    },
    {
      "cell_type": "markdown",
      "metadata": {
        "id": "PCTvbUgnn0m1",
        "colab_type": "text"
      },
      "source": [
        "#Binarization\n",
        "\n",
        "“Binarization is used when you want to convert your numerical feature vector into a Boolean vector.”\n",
        "\n",
        "摘录来自: Prateek Joshi. “Python: Real World Machine Learning。” Apple Books. "
      ]
    },
    {
      "cell_type": "code",
      "metadata": {
        "id": "D5WXkoBHoFtJ",
        "colab_type": "code",
        "colab": {
          "base_uri": "https://localhost:8080/",
          "height": 68
        },
        "outputId": "cf13cadc-448d-4672-b682-e77a695bbc5a"
      },
      "source": [
        "data_binarized = preprocessing.Binarizer(threshold=1.4).transform(data)\n",
        "print(data_binarized)"
      ],
      "execution_count": 3,
      "outputs": [
        {
          "output_type": "stream",
          "text": [
            "[[1. 1. 1. 0.]\n",
            " [0. 1. 0. 1.]\n",
            " [0. 1. 0. 0.]]\n"
          ],
          "name": "stdout"
        }
      ]
    },
    {
      "cell_type": "markdown",
      "metadata": {
        "id": "qDH97lZ8oVBU",
        "colab_type": "text"
      },
      "source": [
        "# One Hot Encoding"
      ]
    },
    {
      "cell_type": "code",
      "metadata": {
        "id": "TT9BdebloRJN",
        "colab_type": "code",
        "colab": {
          "base_uri": "https://localhost:8080/",
          "height": 34
        },
        "outputId": "dc025ad3-6620-4c4e-8139-36c4b87782a2"
      },
      "source": [
        "encoder = preprocessing.OneHotEncoder()\n",
        "encoder.fit([[0,2,1,12], [1,3,5,3], [2,3,2,12], [1,2,4,3]])\n",
        "encoded_vector = encoder.transform([[2,3,5,3]]).toarray() \n",
        "print(encoded_vector)"
      ],
      "execution_count": 4,
      "outputs": [
        {
          "output_type": "stream",
          "text": [
            "[[0. 0. 1. 0. 1. 0. 0. 0. 1. 1. 0.]]\n"
          ],
          "name": "stdout"
        }
      ]
    },
    {
      "cell_type": "markdown",
      "metadata": {
        "id": "hc9AYrxwpDZz",
        "colab_type": "text"
      },
      "source": [
        "# Label encoding"
      ]
    },
    {
      "cell_type": "code",
      "metadata": {
        "id": "wJLeWUzypGeG",
        "colab_type": "code",
        "colab": {
          "base_uri": "https://localhost:8080/",
          "height": 85
        },
        "outputId": "cdab6e7e-3687-4de4-dbbf-45a702df6a9a"
      },
      "source": [
        "label_encoder = preprocessing.LabelEncoder()\n",
        "input_classes = ['audi', 'ford', 'audi', 'toyota', 'ford', 'bmw']\n",
        "label_encoder.fit(input_classes)\n",
        "for i, item in enumerate(label_encoder.classes_):\n",
        "    print(item, '--->', i)"
      ],
      "execution_count": 5,
      "outputs": [
        {
          "output_type": "stream",
          "text": [
            "audi ---> 0\n",
            "bmw ---> 1\n",
            "ford ---> 2\n",
            "toyota ---> 3\n"
          ],
          "name": "stdout"
        }
      ]
    },
    {
      "cell_type": "code",
      "metadata": {
        "id": "saK0M3KjpmG9",
        "colab_type": "code",
        "colab": {
          "base_uri": "https://localhost:8080/",
          "height": 34
        },
        "outputId": "82d521aa-fe9b-4440-bf92-b7d3b70db063"
      },
      "source": [
        "labels = ['toyota', 'ford', 'audi']\n",
        "encoded_labels = label_encoder.transform(labels)\n",
        "print(encoded_labels)"
      ],
      "execution_count": 6,
      "outputs": [
        {
          "output_type": "stream",
          "text": [
            "[3 2 0]\n"
          ],
          "name": "stdout"
        }
      ]
    },
    {
      "cell_type": "code",
      "metadata": {
        "id": "bdHI9s8Rp1w9",
        "colab_type": "code",
        "colab": {
          "base_uri": "https://localhost:8080/",
          "height": 34
        },
        "outputId": "de48ed99-5080-4d96-a436-3704826ef939"
      },
      "source": [
        "encoded_labels = [2,1,0,3,2]\n",
        "decoded_labels = label_encoder.inverse_transform(encoded_labels)\n",
        "print(decoded_labels)"
      ],
      "execution_count": 7,
      "outputs": [
        {
          "output_type": "stream",
          "text": [
            "['ford' 'bmw' 'audi' 'toyota' 'ford']\n"
          ],
          "name": "stdout"
        }
      ]
    }
  ]
}