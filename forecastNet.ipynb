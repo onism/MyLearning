{
  "nbformat": 4,
  "nbformat_minor": 0,
  "metadata": {
    "colab": {
      "name": "forecastNet.ipynb",
      "provenance": [],
      "authorship_tag": "ABX9TyPk8vufC0Afc/Fyx5a+gDk9",
      "include_colab_link": true
    },
    "kernelspec": {
      "name": "python3",
      "display_name": "Python 3"
    }
  },
  "cells": [
    {
      "cell_type": "markdown",
      "metadata": {
        "id": "view-in-github",
        "colab_type": "text"
      },
      "source": [
        "<a href=\"https://colab.research.google.com/github/onism/MyLearning/blob/master/forecastNet.ipynb\" target=\"_parent\"><img src=\"https://colab.research.google.com/assets/colab-badge.svg\" alt=\"Open In Colab\"/></a>"
      ]
    },
    {
      "cell_type": "code",
      "metadata": {
        "id": "S-0cneb8QxOa",
        "colab_type": "code",
        "colab": {}
      },
      "source": [
        "'''\n",
        "Paper:\n",
        "\"ForecastNet: A Time-Variant Deep Feed-Forward Neural Network Architecture for Multi-Step-Ahead Time-Series Forecasting\"\n",
        "by Joel Janek Dabrowski, YiFan Zhang, and Ashfaqur Rahman\n",
        "Link to the paper: https://arxiv.org/abs/2002.04155\n",
        "'''\n",
        " \n",
        "import numpy as np\n",
        "import torch\n",
        "\n",
        "def format_input(input):\n",
        "    \"\"\"\n",
        "    Format the input array by combining the time and input dimension of the input for feeding into ForecastNet.\n",
        "    That is: reshape from [in_seq_length, n_batches, input_dim] to [n_batches, in_seq_length * input_dim]\n",
        "    :param input: Input tensor with shape [in_seq_length, n_batches, input_dim]\n",
        "    :return: input tensor reshaped to [n_batches, in_seq_length * input_dim]\n",
        "    \"\"\"\n",
        "    in_seq_length, batch_size, input_dim = input.shape\n",
        "    input_reshaped = input.permute(1, 0, 2)\n",
        "    input_reshaped = torch.reshape(input_reshaped, (batch_size, -1))\n",
        "    return input_reshaped\n",
        "\n",
        "\n",
        "def batch_format(dataset, T_in_seq, T_out_seq, time_major=True):\n",
        "    \"\"\"\n",
        "    Format the dataset into the form [T_seq, n_batches, n_dims] from the form [T, n_dims]\n",
        "    :param dataset: The dataset in the form  [T, n_dims]\n",
        "    :param T_in_seq: Model input sequence length\n",
        "    :param T_out_seq: Model output sequence length\n",
        "    :param time_major: True if the results are sent in the form [T_seq, n_batches, n_inputs]. Else results in the form\n",
        "                        [n_batches, T_seq, n_inputs]\n",
        "    :return: inputs: The inputs in the form [T_in_seq, n_batches, n_dims]\n",
        "    :return: outputs: The inputs in the form [T_out_seq, n_batches, n_dims]\n",
        "    \"\"\"\n",
        "\n",
        "    T, n_dims = dataset.shape\n",
        "    inputs = []\n",
        "    targets = []\n",
        "    # Loop over the indexes, extract a sample at that index and run it through the model\n",
        "    for t in range(T - T_in_seq - T_out_seq + 1):\n",
        "        # Extract the training and testing samples at the current permuted index\n",
        "        inputs.append(dataset[t: t + T_in_seq, :])\n",
        "        targets.append(dataset[t + T_in_seq:t + T_in_seq + T_out_seq, :])\n",
        "\n",
        "    # Convert lists to arrays of size [n_samples, T_in, N] and [n_samples, T_out, N]\n",
        "    inputs = np.array(inputs)\n",
        "    targets = np.array(targets)\n",
        "\n",
        "    if time_major:\n",
        "        inputs = np.transpose(inputs, (1, 0, 2))\n",
        "        targets = np.transpose(targets, (1, 0, 2))\n",
        "\n",
        "    return inputs, targets\n",
        "\n",
        "def time_series(t, f=0.02):\n",
        "    \"\"\"\n",
        "    Generate time series data over the time vector t. The value of t can be a sequence\n",
        "    of integers generated using the numpy.arange() function. The default frequency is\n",
        "    designed for 2750 samples.\n",
        "    :param t: Time vector with integer indices\n",
        "    :param f: Frequency. Default is 0.02.\n",
        "    :return: ys the simulated time series\n",
        "    \"\"\"\n",
        "    T = t.size\n",
        "    # Seasonal component and time-varying trend component\n",
        "    ys = np.sin(2 * np.pi * f * t) * 0.6 + np.sin(1 / 5 * 2 * np.pi * f * t) * 0.2\n",
        "    # Amplitude modulation component\n",
        "    amp_mod = 0.5 * np.sin(1 / 6 * 2 * np.pi * f * t) + 0.8\n",
        "    ys *= amp_mod\n",
        "    ys = np.reshape(ys, (T,1))\n",
        "    return ys\n",
        "\n",
        "def generate_data(T = 2750, period = 50, n_seqs = 4):\n",
        "    \"\"\"\n",
        "    Generate a dataset using the time_series function. The function generates a dataset\n",
        "    comprising 'n_seqs' time-series sequences of length T. This dataset is split into\n",
        "    training, testing, and validation sets.\n",
        "    returns a training,\n",
        "    test, and validation dataset, each with size\n",
        "    :param T: The total length of the generated time-series\n",
        "    :param period: The period of the time-series seasonal component\n",
        "    :param n_seqs: The number of n_seqs to generate\n",
        "    :return train_data: the dataset for training the model. Shape: [n_seqs, T]\n",
        "    :return test_data: the dataset for testing the model. Shape: [n_seqs, T]\n",
        "    :return valid_data: the dataset for validating the model. Shape: [n_seqs, T]\n",
        "    :return period: The period of the fundamental seasonal component of the time series.\n",
        "    \"\"\"\n",
        "\n",
        "    # Frequency\n",
        "    f = 1/period\n",
        "    T_in_seq = 2 * period\n",
        "    T_out_seq = period\n",
        "\n",
        "    n_samples = T - T_in_seq - T_out_seq + 1\n",
        "    test_idx = n_samples - int(0.2 * n_samples)\n",
        "    valid_idx = n_samples - int(0.1 * n_samples)\n",
        "\n",
        "    # Generate n_seqs of sequences using the time_series method\n",
        "    y = []\n",
        "    for i in range(n_seqs):\n",
        "        idx = np.random.randint(0, T)\n",
        "        y.append(time_series(np.arange(idx, idx + T), f=f))\n",
        "    dataset = np.concatenate(y, axis=1)\n",
        "\n",
        "    # Scale dataset to range [0, 1]\n",
        "    minVal = 0.0\n",
        "    maxVal = 1.0\n",
        "    max_data_val = np.max(dataset)\n",
        "    min_data_val = np.min(dataset)\n",
        "    dataset = (maxVal - minVal) / (max_data_val - min_data_val) * (dataset - min_data_val) + minVal\n",
        "\n",
        "    # Reformat dataset into batch format\n",
        "    trainX_list = []\n",
        "    trainY_list = []\n",
        "    testX_list = []\n",
        "    testY_list = []\n",
        "    validX_list = []\n",
        "    validY_list = []\n",
        "    for i in range(n_seqs):\n",
        "        # Convert to batch format\n",
        "        inputs, targets = batch_format(dataset[:,[i]], T_in_seq, T_out_seq, time_major=True)\n",
        "        trainX_list.append(inputs[:, :test_idx, :])\n",
        "        trainY_list.append(targets[:, :test_idx, :])\n",
        "        testX_list.append(inputs[:, test_idx:valid_idx, :])\n",
        "        testY_list.append(targets[:, test_idx:valid_idx, :])\n",
        "        validX_list.append(inputs[:, valid_idx:, :])\n",
        "        validY_list.append(targets[:, valid_idx:, :])\n",
        "\n",
        "    train_x = np.concatenate(trainX_list, axis=1)\n",
        "    train_y = np.concatenate(trainY_list, axis=1)\n",
        "    test_x = np.concatenate(testX_list, axis=1)\n",
        "    test_y = np.concatenate(testY_list, axis=1)\n",
        "    valid_x = np.concatenate(validX_list, axis=1)\n",
        "    valid_y = np.concatenate(validY_list, axis=1)\n",
        "\n",
        "    return train_x, train_y, test_x, test_y, valid_x, valid_y, period"
      ],
      "execution_count": 1,
      "outputs": []
    },
    {
      "cell_type": "code",
      "metadata": {
        "id": "Vls2iiGxRSIx",
        "colab_type": "code",
        "colab": {}
      },
      "source": [
        "train_x, train_y, test_x, test_y, valid_x, valid_y, period = generate_data(T=2750, period = 50, n_seqs = 4)"
      ],
      "execution_count": 2,
      "outputs": []
    },
    {
      "cell_type": "code",
      "metadata": {
        "id": "gxdH6TH4RWoH",
        "colab_type": "code",
        "colab": {
          "base_uri": "https://localhost:8080/",
          "height": 85
        },
        "outputId": "3305e0a0-c9aa-425f-92ec-047f65a2b935"
      },
      "source": [
        "print(train_x.shape)\n",
        "print(train_y.shape)\n",
        "print(test_x.shape)\n",
        "print(test_y.shape)"
      ],
      "execution_count": 4,
      "outputs": [
        {
          "output_type": "stream",
          "text": [
            "(100, 8324, 1)\n",
            "(50, 8324, 1)\n",
            "(100, 1040, 1)\n",
            "(50, 1040, 1)\n"
          ],
          "name": "stdout"
        }
      ]
    },
    {
      "cell_type": "code",
      "metadata": {
        "id": "gt-IVG-nRs1Z",
        "colab_type": "code",
        "colab": {}
      },
      "source": [
        "import torch \n",
        "import torch.nn as nn \n",
        "import torch.nn.functional as F  \n"
      ],
      "execution_count": 6,
      "outputs": []
    },
    {
      "cell_type": "code",
      "metadata": {
        "id": "LHczKngLSA1_",
        "colab_type": "code",
        "colab": {}
      },
      "source": [
        "class ForecastNetDenseModel(nn.Module):\n",
        "\n",
        "    def __init__(self, input_dim, hidden_dim, output_dim, in_seq_length, out_seq_length, device):\n",
        "        super(ForecastNetDenseModel, self).__init__()\n",
        "        self.input_dim = input_dim \n",
        "        self.hidden_dim = hidden_dim \n",
        "        self.output_dim = output_dim \n",
        "        self.in_seq_length = in_seq_length \n",
        "        self.out_seq_length = out_seq_length \n",
        "        self.device = device\n",
        "\n",
        "        input_dim_comb = input_dim * in_seq_length\n",
        "        hidden_layer1 = [nn.Linear(input_dim_comb, hidden_dim)]\n",
        "        for i in range(out_seq_length - 1):\n",
        "            hidden_layer1.append(nn.Linear(input_dim_comb+hidden_dim+output_dim, hidden_dim))\n",
        "        \n",
        "        self.hidden_layer1 = nn.ModuleList(hidden_layer1)\n",
        "        self.hidden_layer2 = nn.ModuleList([nn.Linear(hidden_dim, hidden_dim) for i in range(out_seq_length)])\n",
        "\n",
        "        self.mu_layer = nn.ModuleList([ nn.Linear(hidden_dim, output_dim) for i in range(out_seq_length)])\n",
        "        self.sigma_layer = nn.ModuleList([nn.Linear(hidden_dim, output_dim) for i in range(out_seq_length)])\n",
        "    \n",
        "    def forward(self, input, target, is_training=False):\n",
        "        # predicted seq, batch, predict_dim\n",
        "        outputs = torch.zeros((self.out_seq_length, input.shape[0], self.output_dim)).to(self.device)\n",
        "        mu = torch.zeros((self.out_seq_length, input.shape[0], self.output_dim)).to(self.device)\n",
        "        sigma = torch.zeros((self.out_seq_length, input.shape[0], self.output_dim)).to(self.device)\n",
        "\n",
        "        next_cell_input = input \n",
        "        print(self.out_seq_length)\n",
        "        for i in range(self.out_seq_length):\n",
        "            out = F.relu(self.hidden_layer1[i](next_cell_input))\n",
        "            out = F.relu(self.hidden_layer2[i](out))\n",
        "            print(i, out.size())\n",
        "            mu_ = self.mu_layer[i](out)\n",
        "            sigma_ = F.softplus(self.sigma_layer[i](out))\n",
        "            mu[i,:,:] = mu_ \n",
        "            sigma[i,:,:] = sigma_ \n",
        "            outputs[i,:,:] = torch.normal(mu_, sigma_).to(self.device)\n",
        "            if is_training:\n",
        "                next_cell_input = torch.cat((input, out, target[i,:,:]), dim=1)\n",
        "            else:\n",
        "                next_cell_input = torch.cat((input, out, outputs[i,:,:]), dim=1)\n",
        "        return outputs, mu, sigma"
      ],
      "execution_count": 22,
      "outputs": []
    },
    {
      "cell_type": "code",
      "metadata": {
        "id": "e22R510tZTim",
        "colab_type": "code",
        "colab": {}
      },
      "source": [
        "in_seq_length = 2 * period\n",
        "out_seq_length = period\n",
        "hidden_dim = 24\n",
        "input_dim = 1\n",
        "output_dim = 1\n",
        "learning_rate = 0.0001\n",
        "n_epochs= 100\n",
        "batch_size = 16"
      ],
      "execution_count": 9,
      "outputs": []
    },
    {
      "cell_type": "code",
      "metadata": {
        "id": "dH5YYsASZd_P",
        "colab_type": "code",
        "colab": {}
      },
      "source": [
        "train_x = torch.from_numpy(train_x).type(torch.FloatTensor)\n",
        "train_y = torch.from_numpy(train_y).type(torch.FloatTensor)\n",
        "train_x = format_input(train_x)\n"
      ],
      "execution_count": 10,
      "outputs": []
    },
    {
      "cell_type": "code",
      "metadata": {
        "id": "hPI3tcqmYWTN",
        "colab_type": "code",
        "colab": {}
      },
      "source": [
        "device = torch.device(\"cuda:0\" if torch.cuda.is_available() else \"cpu\")\n",
        "model = ForecastNetDenseModel(in_seq_length=in_seq_length, out_seq_length=out_seq_length, input_dim=input_dim,\n",
        "                        hidden_dim=hidden_dim, output_dim=output_dim, device=device)\n"
      ],
      "execution_count": 23,
      "outputs": []
    },
    {
      "cell_type": "code",
      "metadata": {
        "id": "ClBnANcbZtcR",
        "colab_type": "code",
        "colab": {
          "base_uri": "https://localhost:8080/",
          "height": 901
        },
        "outputId": "c8e2d526-d37e-48fc-cd7c-09074e253a71"
      },
      "source": [
        "input = train_x[:batch_size, :]\n",
        "target = train_y[:, :  batch_size, :]\n",
        "\n",
        "# Send input and output data to the GPU/CPU\n",
        "input = input.to(device)\n",
        "target = target.to(device)\n",
        "outputs, mu, sigma= model(input, target, is_training=True)\n",
        "print(outputs.size())"
      ],
      "execution_count": 25,
      "outputs": [
        {
          "output_type": "stream",
          "text": [
            "50\n",
            "0 torch.Size([16, 24])\n",
            "1 torch.Size([16, 24])\n",
            "2 torch.Size([16, 24])\n",
            "3 torch.Size([16, 24])\n",
            "4 torch.Size([16, 24])\n",
            "5 torch.Size([16, 24])\n",
            "6 torch.Size([16, 24])\n",
            "7 torch.Size([16, 24])\n",
            "8 torch.Size([16, 24])\n",
            "9 torch.Size([16, 24])\n",
            "10 torch.Size([16, 24])\n",
            "11 torch.Size([16, 24])\n",
            "12 torch.Size([16, 24])\n",
            "13 torch.Size([16, 24])\n",
            "14 torch.Size([16, 24])\n",
            "15 torch.Size([16, 24])\n",
            "16 torch.Size([16, 24])\n",
            "17 torch.Size([16, 24])\n",
            "18 torch.Size([16, 24])\n",
            "19 torch.Size([16, 24])\n",
            "20 torch.Size([16, 24])\n",
            "21 torch.Size([16, 24])\n",
            "22 torch.Size([16, 24])\n",
            "23 torch.Size([16, 24])\n",
            "24 torch.Size([16, 24])\n",
            "25 torch.Size([16, 24])\n",
            "26 torch.Size([16, 24])\n",
            "27 torch.Size([16, 24])\n",
            "28 torch.Size([16, 24])\n",
            "29 torch.Size([16, 24])\n",
            "30 torch.Size([16, 24])\n",
            "31 torch.Size([16, 24])\n",
            "32 torch.Size([16, 24])\n",
            "33 torch.Size([16, 24])\n",
            "34 torch.Size([16, 24])\n",
            "35 torch.Size([16, 24])\n",
            "36 torch.Size([16, 24])\n",
            "37 torch.Size([16, 24])\n",
            "38 torch.Size([16, 24])\n",
            "39 torch.Size([16, 24])\n",
            "40 torch.Size([16, 24])\n",
            "41 torch.Size([16, 24])\n",
            "42 torch.Size([16, 24])\n",
            "43 torch.Size([16, 24])\n",
            "44 torch.Size([16, 24])\n",
            "45 torch.Size([16, 24])\n",
            "46 torch.Size([16, 24])\n",
            "47 torch.Size([16, 24])\n",
            "48 torch.Size([16, 24])\n",
            "49 torch.Size([16, 24])\n",
            "torch.Size([50, 16, 1])\n"
          ],
          "name": "stdout"
        }
      ]
    }
  ]
}